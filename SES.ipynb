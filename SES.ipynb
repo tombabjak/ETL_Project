{
 "cells": [
  {
   "cell_type": "code",
   "execution_count": 1,
   "metadata": {},
   "outputs": [],
   "source": [
    "import pandas as pd\n",
    "from sqlalchemy import create_engine"
   ]
  },
  {
   "cell_type": "code",
   "execution_count": 2,
   "metadata": {},
   "outputs": [],
   "source": [
    "SES_file = \"Resources/GLOB.SES.csv\""
   ]
  },
  {
   "cell_type": "code",
   "execution_count": 3,
   "metadata": {},
   "outputs": [],
   "source": [
    "SES_df = pd.read_csv(SES_file)\n",
    "new_header = SES_df.iloc[0] \n",
    "new_SES_df = SES_df[1:] \n",
    "new_SES_df.columns = new_header"
   ]
  },
  {
   "cell_type": "code",
   "execution_count": 4,
   "metadata": {},
   "outputs": [],
   "source": [
    "new_SES_df = new_SES_df.drop(columns=['unid','yrseduc'])"
   ]
  },
  {
   "cell_type": "code",
   "execution_count": 5,
   "metadata": {},
   "outputs": [],
   "source": [
    "SES_2000 = new_SES_df.loc[new_SES_df[\"year\"] == \"2000\", :]\n",
    "SES_2010 = new_SES_df.loc[new_SES_df[\"year\"] == \"2010\", :]"
   ]
  },
  {
   "cell_type": "code",
   "execution_count": 6,
   "metadata": {},
   "outputs": [],
   "source": [
    "SES_2000.columns = ['wbid','country','year','ses_2000','gdppc_2000','popshare_2000']\n",
    "SES_2000 = SES_2000.set_index('country')\n",
    "SES_2000.drop(columns='year',inplace=True)"
   ]
  },
  {
   "cell_type": "code",
   "execution_count": 7,
   "metadata": {},
   "outputs": [
    {
     "data": {
      "text/html": [
       "<div>\n",
       "<style scoped>\n",
       "    .dataframe tbody tr th:only-of-type {\n",
       "        vertical-align: middle;\n",
       "    }\n",
       "\n",
       "    .dataframe tbody tr th {\n",
       "        vertical-align: top;\n",
       "    }\n",
       "\n",
       "    .dataframe thead th {\n",
       "        text-align: right;\n",
       "    }\n",
       "</style>\n",
       "<table border=\"1\" class=\"dataframe\">\n",
       "  <thead>\n",
       "    <tr style=\"text-align: right;\">\n",
       "      <th></th>\n",
       "      <th>wbid</th>\n",
       "      <th>ses_2010</th>\n",
       "      <th>gdppc_2010</th>\n",
       "      <th>popshare_2010</th>\n",
       "    </tr>\n",
       "    <tr>\n",
       "      <th>country</th>\n",
       "      <th></th>\n",
       "      <th></th>\n",
       "      <th></th>\n",
       "      <th></th>\n",
       "    </tr>\n",
       "  </thead>\n",
       "  <tbody>\n",
       "    <tr>\n",
       "      <th>Afghanistan</th>\n",
       "      <td>AFG</td>\n",
       "      <td>5.6763997</td>\n",
       "      <td>1662.8035</td>\n",
       "      <td>0.0041496116</td>\n",
       "    </tr>\n",
       "    <tr>\n",
       "      <th>Angola</th>\n",
       "      <td>AGO</td>\n",
       "      <td>21.247763</td>\n",
       "      <td>6492.1768</td>\n",
       "      <td>0.0031490561</td>\n",
       "    </tr>\n",
       "    <tr>\n",
       "      <th>Albania</th>\n",
       "      <td>ALB</td>\n",
       "      <td>74.860367</td>\n",
       "      <td>9927.1758</td>\n",
       "      <td>0.00043229439</td>\n",
       "    </tr>\n",
       "    <tr>\n",
       "      <th>United Arab Emirates</th>\n",
       "      <td>ARE</td>\n",
       "      <td>89.092285</td>\n",
       "      <td>57406.738</td>\n",
       "      <td>0.0012360967</td>\n",
       "    </tr>\n",
       "    <tr>\n",
       "      <th>Argentina</th>\n",
       "      <td>ARG</td>\n",
       "      <td>79.750809</td>\n",
       "      <td>18794.27</td>\n",
       "      <td>0.0061175041</td>\n",
       "    </tr>\n",
       "    <tr>\n",
       "      <th>...</th>\n",
       "      <td>...</td>\n",
       "      <td>...</td>\n",
       "      <td>...</td>\n",
       "      <td>...</td>\n",
       "    </tr>\n",
       "    <tr>\n",
       "      <th>Vietnam</th>\n",
       "      <td>VNM</td>\n",
       "      <td>38.222027</td>\n",
       "      <td>4486.2612</td>\n",
       "      <td>0.012900844</td>\n",
       "    </tr>\n",
       "    <tr>\n",
       "      <th>Yemen</th>\n",
       "      <td>YEM</td>\n",
       "      <td>19.492294</td>\n",
       "      <td>4481.5547</td>\n",
       "      <td>0.0035010653</td>\n",
       "    </tr>\n",
       "    <tr>\n",
       "      <th>South Africa</th>\n",
       "      <td>ZAF</td>\n",
       "      <td>71.227959</td>\n",
       "      <td>12028.934</td>\n",
       "      <td>0.0075345747</td>\n",
       "    </tr>\n",
       "    <tr>\n",
       "      <th>Zambia</th>\n",
       "      <td>ZMB</td>\n",
       "      <td>27.12714</td>\n",
       "      <td>3263.3948</td>\n",
       "      <td>0.0020653578</td>\n",
       "    </tr>\n",
       "    <tr>\n",
       "      <th>Zimbabwe</th>\n",
       "      <td>ZWE</td>\n",
       "      <td>27.091389</td>\n",
       "      <td>1388.973</td>\n",
       "      <td>0.0020737362</td>\n",
       "    </tr>\n",
       "  </tbody>\n",
       "</table>\n",
       "<p>149 rows × 4 columns</p>\n",
       "</div>"
      ],
      "text/plain": [
       "                     wbid   ses_2010 gdppc_2010  popshare_2010\n",
       "country                                                       \n",
       "Afghanistan           AFG  5.6763997  1662.8035   0.0041496116\n",
       "Angola                AGO  21.247763  6492.1768   0.0031490561\n",
       "Albania               ALB  74.860367  9927.1758  0.00043229439\n",
       "United Arab Emirates  ARE  89.092285  57406.738   0.0012360967\n",
       "Argentina             ARG  79.750809   18794.27   0.0061175041\n",
       "...                   ...        ...        ...            ...\n",
       "Vietnam               VNM  38.222027  4486.2612    0.012900844\n",
       "Yemen                 YEM  19.492294  4481.5547   0.0035010653\n",
       "South Africa          ZAF  71.227959  12028.934   0.0075345747\n",
       "Zambia                ZMB   27.12714  3263.3948   0.0020653578\n",
       "Zimbabwe              ZWE  27.091389   1388.973   0.0020737362\n",
       "\n",
       "[149 rows x 4 columns]"
      ]
     },
     "execution_count": 7,
     "metadata": {},
     "output_type": "execute_result"
    }
   ],
   "source": [
    "SES_2010.columns = ['wbid','country','year','ses_2010','gdppc_2010','popshare_2010']\n",
    "SES_2010 = SES_2010.set_index('country')\n",
    "SES_2010.drop(columns='year',inplace=True)\n"
   ]
  },
  {
   "cell_type": "code",
   "execution_count": 8,
   "metadata": {},
   "outputs": [
    {
     "name": "stdout",
     "output_type": "stream",
     "text": [
      "········\n"
     ]
    }
   ],
   "source": [
    "import getpass\n",
    "password = getpass.getpass()"
   ]
  },
  {
   "cell_type": "code",
   "execution_count": 9,
   "metadata": {},
   "outputs": [],
   "source": [
    "rds_connection_string = f\"postgres:{password}@localhost:5433/ETL_db\"\n",
    "engine = create_engine(f'postgresql://{rds_connection_string}')"
   ]
  },
  {
   "cell_type": "code",
   "execution_count": 10,
   "metadata": {},
   "outputs": [
    {
     "data": {
      "text/plain": [
       "['ses_2000', 'ses_2010']"
      ]
     },
     "execution_count": 10,
     "metadata": {},
     "output_type": "execute_result"
    }
   ],
   "source": [
    "engine.table_names()"
   ]
  },
  {
   "cell_type": "code",
   "execution_count": null,
   "metadata": {},
   "outputs": [],
   "source": [
    "SES_2000.to_sql(name='ses_2000', con=engine, if_exists='append', index=True)\n",
    "SES_2010.to_sql(name='ses_2010', con=engine, if_exists='append', index=True)"
   ]
  },
  {
   "cell_type": "code",
   "execution_count": null,
   "metadata": {},
   "outputs": [],
   "source": [
    "pd.read_sql_query('select * from SES_2000', con=engine)"
   ]
  },
  {
   "cell_type": "code",
   "execution_count": null,
   "metadata": {},
   "outputs": [],
   "source": [
    "pd.read_sql_query('select * from SES_2010', con=engine)"
   ]
  }
 ],
 "metadata": {
  "kernelspec": {
   "display_name": "Python 3",
   "language": "python",
   "name": "python3"
  },
  "language_info": {
   "codemirror_mode": {
    "name": "ipython",
    "version": 3
   },
   "file_extension": ".py",
   "mimetype": "text/x-python",
   "name": "python",
   "nbconvert_exporter": "python",
   "pygments_lexer": "ipython3",
   "version": "3.9.1"
  }
 },
 "nbformat": 4,
 "nbformat_minor": 4
}
